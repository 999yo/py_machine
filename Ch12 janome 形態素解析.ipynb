{
 "cells": [
  {
   "cell_type": "code",
   "execution_count": 1,
   "id": "a689410a",
   "metadata": {},
   "outputs": [
    {
     "name": "stdout",
     "output_type": "stream",
     "text": [
      "東京\t名詞,固有名詞,地域,一般,*,*,東京,トウキョウ,トーキョー\n",
      "都\t名詞,接尾,地域,*,*,*,都,ト,ト\n",
      "で\t助詞,格助詞,一般,*,*,*,で,デ,デ\n",
      "おいしい\t形容詞,自立,*,*,形容詞・イ段,基本形,おいしい,オイシイ,オイシイ\n",
      "ビール\t名詞,一般,*,*,*,*,ビール,ビール,ビール\n",
      "を\t助詞,格助詞,一般,*,*,*,を,ヲ,ヲ\n",
      "飲も\t動詞,自立,*,*,五段・マ行,未然ウ接続,飲む,ノモ,ノモ\n",
      "う\t助動詞,*,*,*,不変化型,基本形,う,ウ,ウ\n"
     ]
    }
   ],
   "source": [
    "from janome.tokenizer import Tokenizer\n",
    "\n",
    "t = Tokenizer()\n",
    "\n",
    "text = '東京都でおいしいビールを飲もう'\n",
    "tokens = t.tokenize(text)\n",
    "\n",
    "#文章を分割する\n",
    "for token in tokens:\n",
    "    print(token)"
   ]
  },
  {
   "cell_type": "code",
   "execution_count": 2,
   "id": "b8ac0720",
   "metadata": {},
   "outputs": [
    {
     "data": {
      "text/plain": [
       "{'surface': '東京',\n",
       " 'part_of_speech': '名詞,固有名詞,地域,一般',\n",
       " 'infl_type': '*',\n",
       " 'infl_form': '*',\n",
       " 'base_form': '東京',\n",
       " 'reading': 'トウキョウ',\n",
       " 'phonetic': 'トーキョー',\n",
       " 'node_type': 'SYS_DICT'}"
      ]
     },
     "execution_count": 2,
     "metadata": {},
     "output_type": "execute_result"
    }
   ],
   "source": [
    "#varsはオブジェクトの属性を教えてくれる\n",
    "vars(tokens[0])"
   ]
  },
  {
   "cell_type": "code",
   "execution_count": 3,
   "id": "1d343943",
   "metadata": {},
   "outputs": [
    {
     "name": "stdout",
     "output_type": "stream",
     "text": [
      "うら\t動詞,自立,*,*,五段・ラ行,未然形,うる,ウラ,ウラ\n",
      "に\t助詞,格助詞,一般,*,*,*,に,ニ,ニ\n",
      "わに\t名詞,一般,*,*,*,*,わに,ワニ,ワニ\n",
      "は\t助詞,係助詞,*,*,*,*,は,ハ,ワ\n",
      "　\t記号,空白,*,*,*,*,　,　,\n",
      "に\t助詞,格助詞,一般,*,*,*,に,ニ,ニ\n",
      "わに\t名詞,一般,*,*,*,*,わに,ワニ,ワニ\n",
      "わに\t名詞,一般,*,*,*,*,わに,ワニ,ワニ\n",
      "わ\t助詞,終助詞,*,*,*,*,わ,ワ,ワ\n",
      "、\t記号,読点,*,*,*,*,、,、,、\n",
      "にわとり\t名詞,一般,*,*,*,*,にわとり,ニワトリ,ニワトリ\n",
      "が\t助詞,格助詞,一般,*,*,*,が,ガ,ガ\n",
      "いる\t動詞,自立,*,*,一段,基本形,いる,イル,イル\n",
      "。\t記号,句点,*,*,*,*,。,。,。\n"
     ]
    }
   ],
   "source": [
    "text2 = 'うらにわには　にわにわにわ、にわとりがいる。'\n",
    "#ひらがなでは解析できていない。\n",
    "tokens2 = t.tokenize(text2)\n",
    "for token in tokens2:\n",
    "    print(token)"
   ]
  },
  {
   "cell_type": "code",
   "execution_count": 4,
   "id": "c0aca6b9",
   "metadata": {},
   "outputs": [
    {
     "name": "stdout",
     "output_type": "stream",
     "text": [
      "裏庭\n",
      "に\n",
      "は\n",
      "二\n",
      "羽\n",
      "、\n",
      "庭\n",
      "に\n",
      "は\n",
      "二\n",
      "羽\n",
      "、\n",
      "鶏\n",
      "が\n",
      "いる\n",
      "。\n"
     ]
    }
   ],
   "source": [
    "text3 = '裏庭には二羽、庭には二羽、鶏がいる。'\n",
    "tokens3 = t.tokenize(text3, wakati=True)\n",
    "for token in tokens3:\n",
    "    print(token)"
   ]
  },
  {
   "cell_type": "code",
   "execution_count": 5,
   "id": "52dfa9bb",
   "metadata": {},
   "outputs": [
    {
     "data": {
      "text/plain": [
       "[['おいしい', 'ビール', 'を', '飲む'],\n",
       " ['コーヒー', 'を', '飲む'],\n",
       " ['おいしい', 'クラフト', 'ビール', 'を', '買う']]"
      ]
     },
     "execution_count": 5,
     "metadata": {},
     "output_type": "execute_result"
    }
   ],
   "source": [
    "from janome.tokenizer import Tokenizer\n",
    "\n",
    "t = Tokenizer()\n",
    "sentences = ['おいしいビールを飲む', 'コーヒーを飲む', 'おいしいクラフトビールを買う']\n",
    "\n",
    "words_list =[]\n",
    "for sentence in sentences:\n",
    "    words_list.append(t.tokenize(sentence, wakati=True))\n",
    "words_list"
   ]
  },
  {
   "cell_type": "code",
   "execution_count": 6,
   "id": "1bb9c51d",
   "metadata": {},
   "outputs": [
    {
     "data": {
      "text/plain": [
       "['おいしい', 'ビール', 'を', '飲む', 'コーヒー', 'クラフト', '買う']"
      ]
     },
     "execution_count": 6,
     "metadata": {},
     "output_type": "execute_result"
    }
   ],
   "source": [
    "#重複の無い単語リスト\n",
    "unique_words = []\n",
    "for words in words_list:\n",
    "    for word in words:\n",
    "        if word not in unique_words:\n",
    "            unique_words.append(word)\n",
    "unique_words"
   ]
  },
  {
   "cell_type": "code",
   "execution_count": 7,
   "id": "e30f1d81",
   "metadata": {},
   "outputs": [
    {
     "data": {
      "text/plain": [
       "[[1, 1, 1, 1, 0, 0, 0], [0, 0, 1, 1, 1, 0, 0], [1, 1, 1, 0, 0, 1, 1]]"
      ]
     },
     "execution_count": 7,
     "metadata": {},
     "output_type": "execute_result"
    }
   ],
   "source": [
    "#Bag of Wordsのデータを作成する\n",
    "bow_list =[]\n",
    "for words in words_list:\n",
    "    bag_of_words = [] #文章のBag of Words　を格納する\n",
    "    for unique_word in unique_words:\n",
    "        num = words.count(unique_word) #一意な単語の出現回数を数える\n",
    "        bag_of_words.append(num)\n",
    "    bow_list.append(bag_of_words)\n",
    "bow_list"
   ]
  },
  {
   "cell_type": "code",
   "execution_count": 12,
   "id": "aea3fc1a",
   "metadata": {},
   "outputs": [
    {
     "data": {
      "text/plain": [
       "['おいしい', 'ビール', 'を', '飲む', 'コーヒー', 'クラフト', '買う']"
      ]
     },
     "execution_count": 12,
     "metadata": {},
     "output_type": "execute_result"
    }
   ],
   "source": [
    "unique_words"
   ]
  },
  {
   "cell_type": "code",
   "execution_count": 8,
   "id": "4afe2dc6",
   "metadata": {},
   "outputs": [
    {
     "data": {
      "text/html": [
       "<div>\n",
       "<style scoped>\n",
       "    .dataframe tbody tr th:only-of-type {\n",
       "        vertical-align: middle;\n",
       "    }\n",
       "\n",
       "    .dataframe tbody tr th {\n",
       "        vertical-align: top;\n",
       "    }\n",
       "\n",
       "    .dataframe thead th {\n",
       "        text-align: right;\n",
       "    }\n",
       "</style>\n",
       "<table border=\"1\" class=\"dataframe\">\n",
       "  <thead>\n",
       "    <tr style=\"text-align: right;\">\n",
       "      <th></th>\n",
       "      <th>おいしい</th>\n",
       "      <th>ビール</th>\n",
       "      <th>を</th>\n",
       "      <th>飲む</th>\n",
       "      <th>コーヒー</th>\n",
       "      <th>クラフト</th>\n",
       "      <th>買う</th>\n",
       "    </tr>\n",
       "  </thead>\n",
       "  <tbody>\n",
       "    <tr>\n",
       "      <th>おいしいビールを飲む</th>\n",
       "      <td>1</td>\n",
       "      <td>1</td>\n",
       "      <td>1</td>\n",
       "      <td>1</td>\n",
       "      <td>0</td>\n",
       "      <td>0</td>\n",
       "      <td>0</td>\n",
       "    </tr>\n",
       "    <tr>\n",
       "      <th>コーヒーを飲む</th>\n",
       "      <td>0</td>\n",
       "      <td>0</td>\n",
       "      <td>1</td>\n",
       "      <td>1</td>\n",
       "      <td>1</td>\n",
       "      <td>0</td>\n",
       "      <td>0</td>\n",
       "    </tr>\n",
       "    <tr>\n",
       "      <th>おいしいクラフトビールを買う</th>\n",
       "      <td>1</td>\n",
       "      <td>1</td>\n",
       "      <td>1</td>\n",
       "      <td>0</td>\n",
       "      <td>0</td>\n",
       "      <td>1</td>\n",
       "      <td>1</td>\n",
       "    </tr>\n",
       "  </tbody>\n",
       "</table>\n",
       "</div>"
      ],
      "text/plain": [
       "                おいしい  ビール  を  飲む  コーヒー  クラフト  買う\n",
       "おいしいビールを飲む         1    1  1   1     0     0   0\n",
       "コーヒーを飲む            0    0  1   1     1     0   0\n",
       "おいしいクラフトビールを買う     1    1  1   0     0     1   1"
      ]
     },
     "execution_count": 8,
     "metadata": {},
     "output_type": "execute_result"
    }
   ],
   "source": [
    "#pandasを用いて見やすく表示\n",
    "import pandas as pd\n",
    "df = pd.DataFrame(bow_list, columns = unique_words, index=sentences)\n",
    "df"
   ]
  },
  {
   "cell_type": "code",
   "execution_count": 18,
   "id": "b54e64fe",
   "metadata": {},
   "outputs": [
    {
     "data": {
      "text/plain": [
       "おいしい    0.287682\n",
       "ビール     0.287682\n",
       "を       0.000000\n",
       "飲む      0.287682\n",
       "コーヒー    0.693147\n",
       "クラフト    0.693147\n",
       "買う      0.693147\n",
       "dtype: float64"
      ]
     },
     "execution_count": 18,
     "metadata": {},
     "output_type": "execute_result"
    }
   ],
   "source": [
    "#IDFを計算する\n",
    "from math import log #logをインポート\n",
    "num_of_sentences = len(sentences)\n",
    "idf = []\n",
    "for i in range(len(unique_words)): #一意な単語分繰り返す\n",
    "    count = 0\n",
    "    for bow in bow_list:\n",
    "        if bow[i] > 0:\n",
    "            count += 1\n",
    "    idf.append(log((num_of_sentences + 1) / (count + 1))) #単語のIDFを計算\n",
    "        \n",
    "df = pd.Series(idf, index =unique_words)\n",
    "df"
   ]
  },
  {
   "cell_type": "markdown",
   "id": "34621d10",
   "metadata": {},
   "source": [
    "３つすべての文章で出現する単語「を」の\n",
    "IDFは0になる。IDFが小さいほど、どの\n",
    "文章にも現れる単語であることを示す"
   ]
  },
  {
   "cell_type": "code",
   "execution_count": 25,
   "id": "d2b86e1a",
   "metadata": {},
   "outputs": [
    {
     "data": {
      "text/html": [
       "<div>\n",
       "<style scoped>\n",
       "    .dataframe tbody tr th:only-of-type {\n",
       "        vertical-align: middle;\n",
       "    }\n",
       "\n",
       "    .dataframe tbody tr th {\n",
       "        vertical-align: top;\n",
       "    }\n",
       "\n",
       "    .dataframe thead th {\n",
       "        text-align: right;\n",
       "    }\n",
       "</style>\n",
       "<table border=\"1\" class=\"dataframe\">\n",
       "  <thead>\n",
       "    <tr style=\"text-align: right;\">\n",
       "      <th></th>\n",
       "      <th>おいしい</th>\n",
       "      <th>ビール</th>\n",
       "      <th>を</th>\n",
       "      <th>飲む</th>\n",
       "      <th>コーヒー</th>\n",
       "      <th>クラフト</th>\n",
       "      <th>買う</th>\n",
       "    </tr>\n",
       "  </thead>\n",
       "  <tbody>\n",
       "    <tr>\n",
       "      <th>おいしいビールを飲む</th>\n",
       "      <td>0.25</td>\n",
       "      <td>0.25</td>\n",
       "      <td>0.250000</td>\n",
       "      <td>0.250000</td>\n",
       "      <td>0.000000</td>\n",
       "      <td>0.0</td>\n",
       "      <td>0.0</td>\n",
       "    </tr>\n",
       "    <tr>\n",
       "      <th>コーヒーを飲む</th>\n",
       "      <td>0.00</td>\n",
       "      <td>0.00</td>\n",
       "      <td>0.333333</td>\n",
       "      <td>0.333333</td>\n",
       "      <td>0.333333</td>\n",
       "      <td>0.0</td>\n",
       "      <td>0.0</td>\n",
       "    </tr>\n",
       "    <tr>\n",
       "      <th>おいしいクラフトビールを買う</th>\n",
       "      <td>0.20</td>\n",
       "      <td>0.20</td>\n",
       "      <td>0.200000</td>\n",
       "      <td>0.000000</td>\n",
       "      <td>0.000000</td>\n",
       "      <td>0.2</td>\n",
       "      <td>0.2</td>\n",
       "    </tr>\n",
       "  </tbody>\n",
       "</table>\n",
       "</div>"
      ],
      "text/plain": [
       "                おいしい   ビール         を        飲む      コーヒー  クラフト   買う\n",
       "おいしいビールを飲む      0.25  0.25  0.250000  0.250000  0.000000   0.0  0.0\n",
       "コーヒーを飲む         0.00  0.00  0.333333  0.333333  0.333333   0.0  0.0\n",
       "おいしいクラフトビールを買う  0.20  0.20  0.200000  0.000000  0.000000   0.2  0.2"
      ]
     },
     "execution_count": 25,
     "metadata": {},
     "output_type": "execute_result"
    }
   ],
   "source": [
    "#TFを計算する\n",
    "tf_list = []\n",
    "for bow in bow_list: \n",
    "    num_of_words = sum(bow)　\n",
    "    tf = []\n",
    "    for n in bow:\n",
    "        tf.append(n / num_of_words)\n",
    "    tf_list.append(tf)\n",
    "\n",
    "import pandas as pd\n",
    "df = pd.DataFrame(tf_list, columns=unique_words, index=sentences)\n",
    "df"
   ]
  },
  {
   "cell_type": "code",
   "execution_count": 28,
   "id": "4f2d9381",
   "metadata": {},
   "outputs": [
    {
     "data": {
      "text/html": [
       "<div>\n",
       "<style scoped>\n",
       "    .dataframe tbody tr th:only-of-type {\n",
       "        vertical-align: middle;\n",
       "    }\n",
       "\n",
       "    .dataframe tbody tr th {\n",
       "        vertical-align: top;\n",
       "    }\n",
       "\n",
       "    .dataframe thead th {\n",
       "        text-align: right;\n",
       "    }\n",
       "</style>\n",
       "<table border=\"1\" class=\"dataframe\">\n",
       "  <thead>\n",
       "    <tr style=\"text-align: right;\">\n",
       "      <th></th>\n",
       "      <th>おいしい</th>\n",
       "      <th>ビール</th>\n",
       "      <th>を</th>\n",
       "      <th>飲む</th>\n",
       "      <th>コーヒー</th>\n",
       "      <th>クラフト</th>\n",
       "      <th>買う</th>\n",
       "    </tr>\n",
       "  </thead>\n",
       "  <tbody>\n",
       "    <tr>\n",
       "      <th>おいしいビールを飲む</th>\n",
       "      <td>0.321921</td>\n",
       "      <td>0.321921</td>\n",
       "      <td>0.250000</td>\n",
       "      <td>0.321921</td>\n",
       "      <td>0.000000</td>\n",
       "      <td>0.000000</td>\n",
       "      <td>0.000000</td>\n",
       "    </tr>\n",
       "    <tr>\n",
       "      <th>コーヒーを飲む</th>\n",
       "      <td>0.000000</td>\n",
       "      <td>0.000000</td>\n",
       "      <td>0.333333</td>\n",
       "      <td>0.429227</td>\n",
       "      <td>0.564382</td>\n",
       "      <td>0.000000</td>\n",
       "      <td>0.000000</td>\n",
       "    </tr>\n",
       "    <tr>\n",
       "      <th>おいしいクラフトビールを買う</th>\n",
       "      <td>0.257536</td>\n",
       "      <td>0.257536</td>\n",
       "      <td>0.200000</td>\n",
       "      <td>0.000000</td>\n",
       "      <td>0.000000</td>\n",
       "      <td>0.338629</td>\n",
       "      <td>0.338629</td>\n",
       "    </tr>\n",
       "  </tbody>\n",
       "</table>\n",
       "</div>"
      ],
      "text/plain": [
       "                    おいしい       ビール         を        飲む      コーヒー      クラフト  \\\n",
       "おいしいビールを飲む      0.321921  0.321921  0.250000  0.321921  0.000000  0.000000   \n",
       "コーヒーを飲む         0.000000  0.000000  0.333333  0.429227  0.564382  0.000000   \n",
       "おいしいクラフトビールを買う  0.257536  0.257536  0.200000  0.000000  0.000000  0.338629   \n",
       "\n",
       "                      買う  \n",
       "おいしいビールを飲む      0.000000  \n",
       "コーヒーを飲む         0.000000  \n",
       "おいしいクラフトビールを買う  0.338629  "
      ]
     },
     "execution_count": 28,
     "metadata": {},
     "output_type": "execute_result"
    }
   ],
   "source": [
    "import numpy as np\n",
    "idf_a = np.array(idf)\n",
    "tf_list_a = np.array(idf)\n",
    "tf_list_a = np.array(tf_list)\n",
    "tfidf_list = tf_list_a *(idf_a + 1)\n",
    "\n",
    "df = pd.DataFrame(tfidf_list, columns=unique_words, index=sentences)\n",
    "df"
   ]
  },
  {
   "cell_type": "code",
   "execution_count": null,
   "id": "b7d2565f",
   "metadata": {},
   "outputs": [],
   "source": []
  }
 ],
 "metadata": {
  "kernelspec": {
   "display_name": "Python 3 (ipykernel)",
   "language": "python",
   "name": "python3"
  },
  "language_info": {
   "codemirror_mode": {
    "name": "ipython",
    "version": 3
   },
   "file_extension": ".py",
   "mimetype": "text/x-python",
   "name": "python",
   "nbconvert_exporter": "python",
   "pygments_lexer": "ipython3",
   "version": "3.8.13"
  }
 },
 "nbformat": 4,
 "nbformat_minor": 5
}
