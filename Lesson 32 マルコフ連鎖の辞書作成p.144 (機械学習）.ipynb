{
 "cells": [
  {
   "cell_type": "markdown",
   "id": "13c06829",
   "metadata": {},
   "source": [
    "# 1つの文を3単語のずつの組にする"
   ]
  },
  {
   "cell_type": "code",
   "execution_count": 4,
   "id": "9d24dc9e",
   "metadata": {},
   "outputs": [
    {
     "data": {
      "text/plain": [
       "[['__BEGIN__', 'おいしい', 'ビール'],\n",
       " ['おいしい', 'ビール', 'を'],\n",
       " ['ビール', 'を', '飲も'],\n",
       " ['を', '飲も', 'う'],\n",
       " ['飲も', 'う', '__END__']]"
      ]
     },
     "execution_count": 4,
     "metadata": {},
     "output_type": "execute_result"
    }
   ],
   "source": [
    "from janome.tokenizer import Tokenizer\n",
    "\n",
    "BEGIN = '__BEGIN__'\n",
    "END = '__END__'\n",
    "\n",
    "sentence = 'おいしいビールを飲もう'\n",
    "\n",
    "t = Tokenizer()\n",
    "words = t.tokenize(sentence, wakati= True)\n",
    "words = [BEGIN] + words + [END]\n",
    "\n",
    "three_words_list = []\n",
    "for i in range(len(words) - 2):\n",
    "    three_words_list.append(words[i:i+3])\n",
    "three_words_list"
   ]
  },
  {
   "cell_type": "markdown",
   "id": "96b0fe82",
   "metadata": {},
   "source": [
    "# 複数の文章から単語の組の出現回数を数える"
   ]
  },
  {
   "cell_type": "code",
   "execution_count": 7,
   "id": "ff162193",
   "metadata": {},
   "outputs": [
    {
     "data": {
      "text/plain": [
       "Counter({('__BEGIN__', 'おいしい', 'ビール'): 2,\n",
       "         ('おいしい', 'ビール', 'を'): 1,\n",
       "         ('ビール', 'を', '飲も'): 2,\n",
       "         ('を', '飲も', 'う'): 2,\n",
       "         ('飲も', 'う', '__END__'): 2,\n",
       "         ('__BEGIN__', 'ビール', 'を'): 1,\n",
       "         ('おいしい', 'ビール', 'は'): 1,\n",
       "         ('ビール', 'は', '生'): 1,\n",
       "         ('は', '生', '__END__'): 1})"
      ]
     },
     "execution_count": 7,
     "metadata": {},
     "output_type": "execute_result"
    }
   ],
   "source": [
    "from collections import Counter\n",
    "\n",
    "def get_three_words_list(sentence):\n",
    "    #文章を3単語の組にして返す\n",
    "    t = Tokenizer()\n",
    "    words = t.tokenize(sentence, wakati=True)\n",
    "    words = [BEGIN] + words + [END]\n",
    "    three_words_list = []\n",
    "    for i in range(len(words) - 2):\n",
    "        three_words_list.append(tuple(words[i:i+3]))\n",
    "    return three_words_list\n",
    "\n",
    "sentences = ['おいしいビールを飲もう', 'ビールを飲もう', 'おいしいビールは生']\n",
    "three_words_list =[]\n",
    "for sentence in sentences:\n",
    "    three_words_list += get_three_words_list(sentence)\n",
    "three_words_count = Counter(three_words_list)\n",
    "three_words_count     "
   ]
  },
  {
   "cell_type": "code",
   "execution_count": 13,
   "id": "28621379",
   "metadata": {},
   "outputs": [
    {
     "data": {
      "text/plain": [
       "{('__BEGIN__', 'おいしい'): {'words': ['ビール'], 'weights': [2]},\n",
       " ('おいしい', 'ビール'): {'words': ['を', 'は'], 'weights': [1, 1]},\n",
       " ('ビール', 'を'): {'words': ['飲も'], 'weights': [2]},\n",
       " ('を', '飲も'): {'words': ['う'], 'weights': [2]},\n",
       " ('飲も', 'う'): {'words': ['__END__'], 'weights': [2]},\n",
       " ('__BEGIN__', 'ビール'): {'words': ['を'], 'weights': [1]},\n",
       " ('ビール', 'は'): {'words': ['生'], 'weights': [1]},\n",
       " ('は', '生'): {'words': ['__END__'], 'weights': [1]}}"
      ]
     },
     "execution_count": 13,
     "metadata": {},
     "output_type": "execute_result"
    }
   ],
   "source": [
    "def generate_markov_dict(three_words_count):\n",
    "    #マルコフ連鎖での文章生成用の辞書データを生成する\n",
    "    markov_dict = {}\n",
    "    for three_words, count in three_words_count.items():\n",
    "        two_words = three_words[:2]\n",
    "        next_word = three_words[2]\n",
    "        if two_words not in markov_dict:\n",
    "            markov_dict[two_words] = {'words': [], 'weights': []}\n",
    "        markov_dict[two_words]['words'].append(next_word)\n",
    "        markov_dict[two_words]['weights'].append(count)\n",
    "    return markov_dict\n",
    "\n",
    "markov_dict = generate_markov_dict(three_words_count)\n",
    "markov_dict"
   ]
  },
  {
   "cell_type": "code",
   "execution_count": 14,
   "id": "8491e9c5",
   "metadata": {},
   "outputs": [
    {
     "data": {
      "text/plain": [
       "defaultdict(int, {'おいしい': 2, 'ビール': 1})"
      ]
     },
     "execution_count": 14,
     "metadata": {},
     "output_type": "execute_result"
    }
   ],
   "source": [
    "from collections import defaultdict\n",
    "\n",
    "def get_first_word_and_count(thiree_words_count):\n",
    "    #最初の単語を選択するための辞書データを作成する\n",
    "    first_word_count = defaultdict(int)\n",
    "    \n",
    "    for three_words, count in thiree_words_count.items():\n",
    "        if three_words[0] == BEGIN:\n",
    "            next_word = three_words[1]\n",
    "            first_word_count[next_word] += count\n",
    "    return first_word_count\n",
    "\n",
    "\n",
    "get_first_word_and_count(three_words_count)"
   ]
  },
  {
   "cell_type": "markdown",
   "id": "e211d57b",
   "metadata": {},
   "source": [
    "# 辞書データを単語と出現回数のリストにする p151"
   ]
  },
  {
   "cell_type": "code",
   "execution_count": 16,
   "id": "eb5daa11",
   "metadata": {},
   "outputs": [
    {
     "data": {
      "text/plain": [
       "(['おいしい', 'ビール'], [2, 1])"
      ]
     },
     "execution_count": 16,
     "metadata": {},
     "output_type": "execute_result"
    }
   ],
   "source": [
    "#辞書データを単語と出現回数のリストにする\n",
    "def get_first_words_weights(three_words_count):\n",
    "    first_word_count = get_first_word_and_count(three_words_count)\n",
    "    words =[] #単語と重み（出現回数）を格納するリスト\n",
    "    weights = [] \n",
    "    for word, count in first_word_count.items():\n",
    "        words.append(word) #単語と重みをリストに追加\n",
    "        weights.append(count)\n",
    "        \n",
    "    return words, weights\n",
    "\n",
    "first_words, first_weights = get_first_words_weights(three_words_count)\n",
    "first_words, first_weights"
   ]
  },
  {
   "cell_type": "code",
   "execution_count": 21,
   "id": "a46bb755",
   "metadata": {},
   "outputs": [],
   "source": [
    "import random\n",
    "def generate_text(first_words, first_weights, markov_dict):\n",
    "    #入力された辞書データを元に文章を生成する\n",
    "    first_word = random.choices(first_words, weights=first_weights)[0]\n",
    "    generate_words = [BEGIN, first_word]\n",
    "    while True:\n",
    "        pair = tuple(generate_words[-2:])\n",
    "        words = markov_dict[pair]['words']\n",
    "        weights = markov_dict[pair]['weights']\n",
    "        next_word = random.choices(words, weights=weights)[0]\n",
    "        if next_word == END:\n",
    "            break\n",
    "        generate_words.append(next_word)\n",
    "        \n",
    "    return ''.join(generate_words[1:])"
   ]
  },
  {
   "cell_type": "markdown",
   "id": "522fce05",
   "metadata": {},
   "source": [
    "# 文章を生成する"
   ]
  },
  {
   "cell_type": "code",
   "execution_count": 22,
   "id": "75b7aee6",
   "metadata": {},
   "outputs": [
    {
     "name": "stdout",
     "output_type": "stream",
     "text": [
      "おいしいビールは生\n",
      "ビールを飲もう\n",
      "ビールを飲もう\n",
      "おいしいビールは生\n",
      "おいしいビールは生\n"
     ]
    }
   ],
   "source": [
    "for _ in range(5):\n",
    "    text = generate_text(first_words, first_weights, markov_dict)\n",
    "    print(text)"
   ]
  },
  {
   "cell_type": "code",
   "execution_count": null,
   "id": "fc89ae41",
   "metadata": {},
   "outputs": [],
   "source": []
  }
 ],
 "metadata": {
  "kernelspec": {
   "display_name": "Python 3 (ipykernel)",
   "language": "python",
   "name": "python3"
  },
  "language_info": {
   "codemirror_mode": {
    "name": "ipython",
    "version": 3
   },
   "file_extension": ".py",
   "mimetype": "text/x-python",
   "name": "python",
   "nbconvert_exporter": "python",
   "pygments_lexer": "ipython3",
   "version": "3.8.13"
  }
 },
 "nbformat": 4,
 "nbformat_minor": 5
}
